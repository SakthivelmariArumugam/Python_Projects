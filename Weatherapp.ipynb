{
 "cells": [
  {
   "cell_type": "code",
   "execution_count": 1,
   "id": "57bdd663-707e-4bc5-8f06-0d156eb80f84",
   "metadata": {},
   "outputs": [],
   "source": [
    "import tkinter as tk\n",
    "import requests\n",
    "import time"
   ]
  },
  {
   "cell_type": "code",
   "execution_count": null,
   "id": "b4fe5697-d802-4165-aa17-2239d94984ba",
   "metadata": {},
   "outputs": [],
   "source": [
    "def getWeather(event):\n",
    "    city = textfield.get()\n",
    "    api = \"http://api.openweathermap.org/data/2.5/weather?q=\" + city + \"&appid=c7d72f4acce6881eaa04085c55ccadc6\"\n",
    "    json_data = requests.get(api).json()\n",
    "    condition = json_data['weather'][0]['main']\n",
    "    temp = int(json_data['main']['temp'] - 273.15)\n",
    "    min_temp = int(json_data['main']['temp_min'] - 273.15)\n",
    "    max_temp = int(json_data['main']['temp_max'] - 273.15)\n",
    "    pressure = json_data['main']['pressure']\n",
    "    humidity = json_data['main']['humidity']\n",
    "    wind = json_data['wind']['speed']\n",
    "    sunrise = time.strftime(\"%I:%M:%S\", time.gmtime(json_data['sys']['sunrise'] - 21600))\n",
    "    sunset = time.strftime(\"%I:%M:%S\", time.gmtime(json_data['sys']['sunset'] - 21600))\n",
    "    final_info = condition + \"\\n\" + str(temp) + \"C\"\n",
    "    final_data = \"\\n\" + \"Max Temp:\" + str(max_temp) + \"\\n\" + \"Min Temp:\" + str(min_temp) + \"\\n\" + \"Pressure:\" + str(pressure) + \"\\n\" + \"Humidity:\" + str(humidity) + \"\\n\" + \"Wind Speed:\" + str(wind) + \"\\n\" + \"Sunrise:\" + sunrise + \"\\n\" + \"Sunset:\" + sunset\n",
    "    label1.config(text=final_info)\n",
    "    label2.config(text=final_data)\n",
    "\n",
    "canvas = tk.Tk()\n",
    "canvas.geometry(\"600x500\")\n",
    "canvas.title(\"Weather App\")\n",
    "\n",
    "f = (\"poppins\", 15, \"bold\")\n",
    "t = (\"poppins\", 35, \"bold\")\n",
    "\n",
    "textfield = tk.Entry(canvas, font=t)\n",
    "textfield.pack(pady=20)\n",
    "textfield.focus()\n",
    "textfield.bind('<Return>', getWeather)\n",
    "\n",
    "label1 = tk.Label(canvas, font=t)\n",
    "label1.pack()\n",
    "\n",
    "label2 = tk.Label(canvas, font=f)\n",
    "label2.pack()\n",
    "\n",
    "canvas.mainloop()"
   ]
  },
  {
   "cell_type": "code",
   "execution_count": null,
   "id": "5f5780c7-a982-4805-868a-6632d507dbf4",
   "metadata": {},
   "outputs": [],
   "source": []
  }
 ],
 "metadata": {
  "kernelspec": {
   "display_name": "Python 3 (ipykernel)",
   "language": "python",
   "name": "python3"
  },
  "language_info": {
   "codemirror_mode": {
    "name": "ipython",
    "version": 3
   },
   "file_extension": ".py",
   "mimetype": "text/x-python",
   "name": "python",
   "nbconvert_exporter": "python",
   "pygments_lexer": "ipython3",
   "version": "3.11.7"
  }
 },
 "nbformat": 4,
 "nbformat_minor": 5
}
